{
 "cells": [
  {
   "cell_type": "code",
   "execution_count": null,
   "id": "7aecab7b-4bc9-40a4-b9b4-156c1de8f942",
   "metadata": {
    "tags": []
   },
   "outputs": [],
   "source": [
    "# find percentile y\n",
    "x = np.percentile(Max_Pulse, y)\n",
    "\n",
    "# standard deviation, same units as the data set. measure of the amount of variation or dispersion of a set of values. srt(E[X^2]-(E[X]^2))\n",
    "std = np.std(full_health_data)\n",
    "\n",
    "# variance = std^2. avg( [x1-u]^2 + [x2-u]^2 + [x3-u]^2 ...)\n",
    "var = np.var(health_data)\n",
    "\n",
    "# correlation coefficient [-1,1], 1 = there is a perfect linear relationship\n",
    "Corr_Matrix = full_health_data.corr()"
   ]
  },
  {
   "cell_type": "markdown",
   "id": "9c003828-4a45-4bc8-9902-dd92e8313b6c",
   "metadata": {},
   "source": []
  },
  {
   "cell_type": "code",
   "execution_count": null,
   "id": "02488ef3-0736-47bf-a03a-4984a71a12a1",
   "metadata": {},
   "outputs": [],
   "source": []
  }
 ],
 "metadata": {
  "kernelspec": {
   "display_name": "Python 3 (ipykernel)",
   "language": "python",
   "name": "python3"
  },
  "language_info": {
   "codemirror_mode": {
    "name": "ipython",
    "version": 3
   },
   "file_extension": ".py",
   "mimetype": "text/x-python",
   "name": "python",
   "nbconvert_exporter": "python",
   "pygments_lexer": "ipython3",
   "version": "3.9.12"
  }
 },
 "nbformat": 4,
 "nbformat_minor": 5
}
